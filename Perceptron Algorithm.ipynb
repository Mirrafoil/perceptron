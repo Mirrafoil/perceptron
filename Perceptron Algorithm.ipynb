{
 "cells": [
  {
   "cell_type": "markdown",
   "metadata": {},
   "source": [
    "# Perceptron Algorithm"
   ]
  },
  {
   "cell_type": "code",
   "execution_count": 1,
   "metadata": {
    "scrolled": false
   },
   "outputs": [],
   "source": [
    "\n",
    "def perceptron(S):\n",
    "    \n",
    "    w = (0,0) # Initialise w^(1) = (0,...,0)\n",
    "    exists = True\n",
    "    \n",
    "    while True: # for t = 1,2,...\n",
    "        exists = False\n",
    "        for i in range(len(S)): # check for existence of i s.t. y_i⟨w^(t), x_i⟩ <= 0\n",
    "            if S[i][1]*((w[0]*S[i][0][0]) + w[1]*S[i][0][1]) <= 0:          # y_i⟨w^(t), x_i⟩ <= 0\n",
    "                w = (w[0]+(S[i][1]*S[i][0][0]), w[1]+(S[i][1]*S[i][0][1]))  # w^(t+1) = w^(t) + y_i*x_i\n",
    "                exists = True\n",
    "                break\n",
    "        if exists == False: return w"
   ]
  },
  {
   "cell_type": "code",
   "execution_count": 2,
   "metadata": {},
   "outputs": [],
   "source": [
    "S = (((0,2), 1), ((1,-1), 1), ((-3,-2),-1), ((-1, 3), -1))"
   ]
  },
  {
   "cell_type": "code",
   "execution_count": 3,
   "metadata": {},
   "outputs": [
    {
     "data": {
      "text/plain": [
       "(5, 1)"
      ]
     },
     "execution_count": 3,
     "metadata": {},
     "output_type": "execute_result"
    }
   ],
   "source": [
    "perceptron(S)"
   ]
  },
  {
   "cell_type": "markdown",
   "metadata": {},
   "source": [
    "![title](perceptron.jpeg)"
   ]
  }
 ],
 "metadata": {
  "kernelspec": {
   "display_name": "Python 3",
   "language": "python",
   "name": "python3"
  },
  "language_info": {
   "codemirror_mode": {
    "name": "ipython",
    "version": 3
   },
   "file_extension": ".py",
   "mimetype": "text/x-python",
   "name": "python",
   "nbconvert_exporter": "python",
   "pygments_lexer": "ipython3",
   "version": "3.7.3"
  }
 },
 "nbformat": 4,
 "nbformat_minor": 2
}
